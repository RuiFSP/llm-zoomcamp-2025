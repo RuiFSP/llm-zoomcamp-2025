{
 "cells": [
  {
   "cell_type": "markdown",
   "id": "ee5dfdfd",
   "metadata": {},
   "source": [
    "# Homework Workshop - LLM ZOOMCAMP - Rui Pinto"
   ]
  },
  {
   "cell_type": "markdown",
   "id": "7d6d8b3c",
   "metadata": {},
   "source": [
    "# From REST to reasoning: ingest, index, and query with dlt and Cognee\n",
    "\n",
    "* Video: https://www.youtube.com/watch?v=MNt_KK32gys\n",
    "* Homework solution: TBA\n",
    "\n",
    "# Resources\n",
    "\n",
    "* [Slides](https://docs.google.com/presentation/d/1oHQilxEVqGGW4S2ctNEE0wHY2LgcjYLaRUziAoinsis/edit?usp=sharing)\n",
    "* [Colab Notebook](https://colab.research.google.com/drive/1vBA9OIGChcKjjg8r5hHduR0v3A5D6rmH?usp=sharing) \n",
    "\n",
    "--- \n",
    "\n",
    "## Question 1. dlt Version\n",
    "\n",
    "In this homework, we will load the data from our FAQ to Qdrant\n",
    "\n",
    "Let's install dlt with Qdrant support and Qdrant client:\n",
    "\n",
    "```bash\n",
    "uv install -q \"dlt[qdrant]\" \"qdrant-client[fastembed]\"\n",
    "```\n",
    "\n",
    "What's the version of dlt that you installed?\n"
   ]
  },
  {
   "cell_type": "code",
   "execution_count": 9,
   "id": "db2f3113",
   "metadata": {},
   "outputs": [
    {
     "name": "stdout",
     "output_type": "stream",
     "text": [
      "1.12.3\n"
     ]
    }
   ],
   "source": [
    "# !uv pip install -q \"dlt[qdrant]\" \"qdrant-client[fastembed]\"\n",
    "import dlt\n",
    "\n",
    "print(dlt.__version__)"
   ]
  },
  {
   "cell_type": "markdown",
   "id": "4e34481c",
   "metadata": {},
   "source": [
    "## dlt Resourse\n",
    "\n",
    "For reading the FAQ data, we have this helper function:\n",
    "\n",
    "```python\n",
    "def zoomcamp_data():\n",
    "    docs_url = 'https://github.com/alexeygrigorev/llm-rag-workshop/raw/main/notebooks/documents.json'\n",
    "    docs_response = requests.get(docs_url)\n",
    "    documents_raw = docs_response.json()\n",
    "\n",
    "    for course in documents_raw:\n",
    "        course_name = course['course']\n",
    "\n",
    "        for doc in course['documents']:\n",
    "            doc['course'] = course_name\n",
    "            yield doc\n",
    "```\n",
    "\n",
    "Annotate it with `@dlt.resource`. We will use it when creating\n",
    "a dlt pipeline."
   ]
  },
  {
   "cell_type": "code",
   "execution_count": null,
   "id": "67344df6",
   "metadata": {},
   "outputs": [],
   "source": [
    "import requests\n",
    "\n",
    "\n",
    "@dlt.resource()\n",
    "def zoomcamp_data():\n",
    "    docs_url = \"https://github.com/alexeygrigorev/llm-rag-workshop/raw/main/notebooks/documents.json\"\n",
    "    docs_response = requests.get(docs_url)\n",
    "    documents_raw = docs_response.json()\n",
    "\n",
    "    for course in documents_raw:\n",
    "        course_name = course[\"course\"]\n",
    "\n",
    "        for doc in course[\"documents\"]:\n",
    "            doc[\"course\"] = course_name\n",
    "            yield doc"
   ]
  },
  {
   "cell_type": "markdown",
   "id": "cda96415",
   "metadata": {},
   "source": [
    "## Question 2. dlt pipeline\n",
    "\n",
    "Now let's create a pipeline. \n",
    "\n",
    "We need to define a destination for that. Let's use the `qdrant` one:\n",
    "\n",
    "```python\n",
    "from dlt.destinations import qdrant\n",
    "\n",
    "qdrant_destination = qdrant(\n",
    "  qd_path=\"db.qdrant\", \n",
    ")\n",
    "```\n",
    "\n",
    "In this case, we tell dlt (and Qdrant) to create a folder with\n",
    "our data, and the name for it will be `db.qdrant`\n",
    "\n",
    "Let's run it:\n",
    "\n",
    "```python\n",
    "pipeline = dlt.pipeline(\n",
    "    pipeline_name=\"zoomcamp_pipeline\",\n",
    "    destination=qdrant_destination,\n",
    "    dataset_name=\"zoomcamp_tagged_data\"\n",
    "\n",
    ")\n",
    "load_info = pipeline.run(zoomcamp_data())\n",
    "print(pipeline.last_trace)\n",
    "```\n",
    "\n",
    "How many rows were inserted into the `zoomcamp_data` collection?\n",
    "\n",
    "Look for `\"Normalized data for the following tables:\"` in the trace output."
   ]
  },
  {
   "cell_type": "code",
   "execution_count": null,
   "id": "3db9a9ea",
   "metadata": {},
   "outputs": [],
   "source": [
    "from dlt.destinations import qdrant\n",
    "\n",
    "qdrant_destination = qdrant(\n",
    "    qd_path=\"db.qdrant\",\n",
    ")"
   ]
  },
  {
   "cell_type": "code",
   "execution_count": 12,
   "id": "e59399f3",
   "metadata": {},
   "outputs": [
    {
     "data": {
      "application/vnd.jupyter.widget-view+json": {
       "model_id": "72e679d23ed04c9494b9824363fee811",
       "version_major": 2,
       "version_minor": 0
      },
      "text/plain": [
       "Fetching 5 files:   0%|          | 0/5 [00:00<?, ?it/s]"
      ]
     },
     "metadata": {},
     "output_type": "display_data"
    },
    {
     "data": {
      "application/vnd.jupyter.widget-view+json": {
       "model_id": "0957af0cf8dd4b9f85a4a6c2d7525ad7",
       "version_major": 2,
       "version_minor": 0
      },
      "text/plain": [
       "tokenizer_config.json:   0%|          | 0.00/366 [00:00<?, ?B/s]"
      ]
     },
     "metadata": {},
     "output_type": "display_data"
    },
    {
     "data": {
      "application/vnd.jupyter.widget-view+json": {
       "model_id": "d770b03a0f99420e90674ca0312ac35e",
       "version_major": 2,
       "version_minor": 0
      },
      "text/plain": [
       "config.json:   0%|          | 0.00/701 [00:00<?, ?B/s]"
      ]
     },
     "metadata": {},
     "output_type": "display_data"
    },
    {
     "data": {
      "application/vnd.jupyter.widget-view+json": {
       "model_id": "71c81c8db2ed4203a096314de9560b88",
       "version_major": 2,
       "version_minor": 0
      },
      "text/plain": [
       "special_tokens_map.json:   0%|          | 0.00/125 [00:00<?, ?B/s]"
      ]
     },
     "metadata": {},
     "output_type": "display_data"
    },
    {
     "data": {
      "application/vnd.jupyter.widget-view+json": {
       "model_id": "02b24985eeb64b26989f7f851876327d",
       "version_major": 2,
       "version_minor": 0
      },
      "text/plain": [
       "model_optimized.onnx:   0%|          | 0.00/133M [00:00<?, ?B/s]"
      ]
     },
     "metadata": {},
     "output_type": "display_data"
    },
    {
     "data": {
      "application/vnd.jupyter.widget-view+json": {
       "model_id": "dacd8b7c7d5b46df970d9e88c7837206",
       "version_major": 2,
       "version_minor": 0
      },
      "text/plain": [
       "tokenizer.json: 0.00B [00:00, ?B/s]"
      ]
     },
     "metadata": {},
     "output_type": "display_data"
    },
    {
     "name": "stdout",
     "output_type": "stream",
     "text": [
      "Run started at 2025-07-04 19:27:00.410530+00:00 and COMPLETED in 19.03 seconds with 4 steps.\n",
      "Step extract COMPLETED in 0.82 seconds.\n",
      "\n",
      "Load package 1751657228.4511952 is EXTRACTED and NOT YET LOADED to the destination and contains no failed jobs\n",
      "\n",
      "Step normalize COMPLETED in 0.10 seconds.\n",
      "Normalized data for the following tables:\n",
      "- _dlt_pipeline_state: 1 row(s)\n",
      "- zoomcamp_data: 948 row(s)\n",
      "\n",
      "Load package 1751657228.4511952 is NORMALIZED and NOT YET LOADED to the destination and contains no failed jobs\n",
      "\n",
      "Step load COMPLETED in 10.07 seconds.\n",
      "Pipeline zoomcamp_pipeline load step completed in 10.05 seconds\n",
      "1 load package(s) were loaded to destination qdrant and into dataset zoomcamp_tagged_data\n",
      "The qdrant destination used /home/ruifspinto/projects/llm-zoomcamp-2025/workshops/db.qdrant location to store data\n",
      "Load package 1751657228.4511952 is LOADED and contains no failed jobs\n",
      "\n",
      "Step run COMPLETED in 19.03 seconds.\n",
      "Pipeline zoomcamp_pipeline load step completed in 10.05 seconds\n",
      "1 load package(s) were loaded to destination qdrant and into dataset zoomcamp_tagged_data\n",
      "The qdrant destination used /home/ruifspinto/projects/llm-zoomcamp-2025/workshops/db.qdrant location to store data\n",
      "Load package 1751657228.4511952 is LOADED and contains no failed jobs\n"
     ]
    }
   ],
   "source": [
    "pipeline = dlt.pipeline(\n",
    "    pipeline_name=\"zoomcamp_pipeline\",\n",
    "    destination=qdrant_destination,\n",
    "    dataset_name=\"zoomcamp_tagged_data\",\n",
    ")\n",
    "load_info = pipeline.run(zoomcamp_data())\n",
    "print(pipeline.last_trace)"
   ]
  },
  {
   "cell_type": "code",
   "execution_count": 15,
   "id": "e387ae1f",
   "metadata": {},
   "outputs": [
    {
     "name": "stdout",
     "output_type": "stream",
     "text": [
      "The number of rows loaded - zoomcamp_data: 948 row(s)\n"
     ]
    }
   ],
   "source": [
    "print(\"The number of rows loaded - zoomcamp_data: 948 row(s)\")"
   ]
  },
  {
   "cell_type": "markdown",
   "id": "b0f38276",
   "metadata": {},
   "source": [
    "## Question 3. Embeddings\n",
    "\n",
    "When inserting the data, an embedding model was used. Which one?\n",
    "\n",
    "You can find this out by inspecting the `meta.json` file created\n",
    "in the target folder."
   ]
  },
  {
   "cell_type": "code",
   "execution_count": 16,
   "id": "920306a9",
   "metadata": {},
   "outputs": [
    {
     "name": "stdout",
     "output_type": "stream",
     "text": [
      "{\n",
      "  \"collections\": {\n",
      "    \"zoomcamp_tagged_data\": {\n",
      "      \"vectors\": {\n",
      "        \"fast-bge-small-en\": {\n",
      "          \"size\": 384,\n",
      "          \"distance\": \"Cosine\",\n",
      "          \"hnsw_config\": null,\n",
      "          \"quantization_config\": null,\n",
      "          \"on_disk\": null,\n",
      "          \"datatype\": null,\n",
      "          \"multivector_config\": null\n",
      "        }\n",
      "      },\n",
      "      \"shard_number\": null,\n",
      "      \"sharding_method\": null,\n",
      "      \"replication_factor\": null,\n",
      "      \"write_consistency_factor\": null,\n",
      "      \"on_disk_payload\": null,\n",
      "      \"hnsw_config\": null,\n",
      "      \"wal_config\": null,\n",
      "      \"optimizers_config\": null,\n",
      "      \"init_from\": null,\n",
      "      \"quantization_config\": null,\n",
      "      \"sparse_vectors\": null,\n",
      "      \"strict_mode_config\": null\n",
      "    },\n",
      "    \"zoomcamp_tagged_data_zoomcamp_data\": {\n",
      "      \"vectors\": {\n",
      "        \"fast-bge-small-en\": {\n",
      "          \"size\": 384,\n",
      "          \"distance\": \"Cosine\",\n",
      "          \"hnsw_config\": null,\n",
      "          \"quantization_config\": null,\n",
      "          \"on_disk\": null,\n",
      "          \"datatype\": null,\n",
      "          \"multivector_config\": null\n",
      "        }\n",
      "      },\n",
      "      \"shard_number\": null,\n",
      "      \"sharding_method\": null,\n",
      "      \"replication_factor\": null,\n",
      "      \"write_consistency_factor\": null,\n",
      "      \"on_disk_payload\": null,\n",
      "      \"hnsw_config\": null,\n",
      "      \"wal_config\": null,\n",
      "      \"optimizers_config\": null,\n",
      "      \"init_from\": null,\n",
      "      \"quantization_config\": null,\n",
      "      \"sparse_vectors\": null,\n",
      "      \"strict_mode_config\": null\n",
      "    },\n",
      "    \"zoomcamp_tagged_data__dlt_pipeline_state\": {\n",
      "      \"vectors\": {\n",
      "        \"fast-bge-small-en\": {\n",
      "          \"size\": 384,\n",
      "          \"distance\": \"Cosine\",\n",
      "          \"hnsw_config\": null,\n",
      "          \"quantization_config\": null,\n",
      "          \"on_disk\": null,\n",
      "          \"datatype\": null,\n",
      "          \"multivector_config\": null\n",
      "        }\n",
      "      },\n",
      "      \"shard_number\": null,\n",
      "      \"sharding_method\": null,\n",
      "      \"replication_factor\": null,\n",
      "      \"write_consistency_factor\": null,\n",
      "      \"on_disk_payload\": null,\n",
      "      \"hnsw_config\": null,\n",
      "      \"wal_config\": null,\n",
      "      \"optimizers_config\": null,\n",
      "      \"init_from\": null,\n",
      "      \"quantization_config\": null,\n",
      "      \"sparse_vectors\": null,\n",
      "      \"strict_mode_config\": null\n",
      "    },\n",
      "    \"zoomcamp_tagged_data__dlt_version\": {\n",
      "      \"vectors\": {\n",
      "        \"fast-bge-small-en\": {\n",
      "          \"size\": 384,\n",
      "          \"distance\": \"Cosine\",\n",
      "          \"hnsw_config\": null,\n",
      "          \"quantization_config\": null,\n",
      "          \"on_disk\": null,\n",
      "          \"datatype\": null,\n",
      "          \"multivector_config\": null\n",
      "        }\n",
      "      },\n",
      "      \"shard_number\": null,\n",
      "      \"sharding_method\": null,\n",
      "      \"replication_factor\": null,\n",
      "      \"write_consistency_factor\": null,\n",
      "      \"on_disk_payload\": null,\n",
      "      \"hnsw_config\": null,\n",
      "      \"wal_config\": null,\n",
      "      \"optimizers_config\": null,\n",
      "      \"init_from\": null,\n",
      "      \"quantization_config\": null,\n",
      "      \"sparse_vectors\": null,\n",
      "      \"strict_mode_config\": null\n",
      "    },\n",
      "    \"zoomcamp_tagged_data__dlt_loads\": {\n",
      "      \"vectors\": {\n",
      "        \"fast-bge-small-en\": {\n",
      "          \"size\": 384,\n",
      "          \"distance\": \"Cosine\",\n",
      "          \"hnsw_config\": null,\n",
      "          \"quantization_config\": null,\n",
      "          \"on_disk\": null,\n",
      "          \"datatype\": null,\n",
      "          \"multivector_config\": null\n",
      "        }\n",
      "      },\n",
      "      \"shard_number\": null,\n",
      "      \"sharding_method\": null,\n",
      "      \"replication_factor\": null,\n",
      "      \"write_consistency_factor\": null,\n",
      "      \"on_disk_payload\": null,\n",
      "      \"hnsw_config\": null,\n",
      "      \"wal_config\": null,\n",
      "      \"optimizers_config\": null,\n",
      "      \"init_from\": null,\n",
      "      \"quantization_config\": null,\n",
      "      \"sparse_vectors\": null,\n",
      "      \"strict_mode_config\": null\n",
      "    }\n",
      "  },\n",
      "  \"aliases\": {}\n",
      "}\n"
     ]
    }
   ],
   "source": [
    "import json\n",
    "import os\n",
    "\n",
    "# Path to the meta.json file in the db.qdrant folder\n",
    "meta_file_path = os.path.join(\"db.qdrant\", \"meta.json\")\n",
    "\n",
    "# Read and display the meta.json file contents\n",
    "with open(meta_file_path, \"r\") as f:\n",
    "    meta_data = json.load(f)\n",
    "    print(json.dumps(meta_data, indent=2))\n",
    "\n",
    "    # If you specifically want to see the embedding model info\n",
    "    if \"embedding_model\" in meta_data:\n",
    "        print(f\"\\nEmbedding model used: {meta_data['embedding_model']}\")"
   ]
  },
  {
   "cell_type": "code",
   "execution_count": null,
   "id": "658c828d",
   "metadata": {},
   "outputs": [],
   "source": []
  }
 ],
 "metadata": {
  "kernelspec": {
   "display_name": "env_llm",
   "language": "python",
   "name": "python3"
  },
  "language_info": {
   "codemirror_mode": {
    "name": "ipython",
    "version": 3
   },
   "file_extension": ".py",
   "mimetype": "text/x-python",
   "name": "python",
   "nbconvert_exporter": "python",
   "pygments_lexer": "ipython3",
   "version": "3.10.16"
  }
 },
 "nbformat": 4,
 "nbformat_minor": 5
}
